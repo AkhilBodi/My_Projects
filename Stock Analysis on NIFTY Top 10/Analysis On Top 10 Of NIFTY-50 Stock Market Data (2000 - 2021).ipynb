{
 "cells": [
  {
   "cell_type": "code",
   "execution_count": null,
   "id": "cc383839",
   "metadata": {},
   "outputs": [],
   "source": [
    "# importing the libraries\n",
    "import numpy as np\n",
    "import pandas as pd\n",
    "import seaborn as sns\n",
    "import matplotlib.pyplot as plt\n",
    "%matplotlib inline"
   ]
  },
  {
   "cell_type": "code",
   "execution_count": null,
   "id": "29fe9632",
   "metadata": {},
   "outputs": [],
   "source": [
    "#importing the data\n",
    "adani_ports = pd.read_csv(\"~/Documents/Data Science/Journey/Projects/NIFTY 50 PROJECT/DATA/ADANIPORTS.csv\")\n",
    "adani_ports"
   ]
  },
  {
   "cell_type": "code",
   "execution_count": null,
   "id": "2a2d100f",
   "metadata": {},
   "outputs": [],
   "source": [
    "# columns of the data\n",
    "list(adani_ports.columns)"
   ]
  },
  {
   "cell_type": "code",
   "execution_count": null,
   "id": "a9a5710a",
   "metadata": {},
   "outputs": [],
   "source": [
    "#information of the data\n",
    "adani_ports.info()"
   ]
  },
  {
   "cell_type": "code",
   "execution_count": null,
   "id": "f53eb051",
   "metadata": {},
   "outputs": [],
   "source": [
    "# finding the sum of null values in each column\n",
    "adani_ports.isnull().sum()"
   ]
  },
  {
   "cell_type": "code",
   "execution_count": null,
   "id": "f574803e",
   "metadata": {},
   "outputs": [],
   "source": [
    "#finding the sum of duplicated values\n",
    "adani_ports.duplicated().sum()"
   ]
  },
  {
   "cell_type": "code",
   "execution_count": null,
   "id": "a6f95477",
   "metadata": {},
   "outputs": [],
   "source": [
    "# using the describe function to know more about the data\n",
    "adani_ports.describe().round(2).transpose()"
   ]
  },
  {
   "cell_type": "code",
   "execution_count": null,
   "id": "5b25ed00",
   "metadata": {},
   "outputs": [],
   "source": [
    "# converting the date format of data from object to datetime\n",
    "adani_ports[\"Date\"] = pd.to_datetime(adani_ports[\"Date\"])"
   ]
  },
  {
   "cell_type": "code",
   "execution_count": null,
   "id": "18f63e94",
   "metadata": {},
   "outputs": [],
   "source": [
    "adani_ports.info()"
   ]
  },
  {
   "cell_type": "code",
   "execution_count": null,
   "id": "ab64865b",
   "metadata": {},
   "outputs": [],
   "source": [
    "#creating the columns year, month, date from the datetime column\n",
    "adani_ports[\"Year\"] = adani_ports[\"Date\"].dt.year\n",
    "adani_ports[\"Month\"] = adani_ports[\"Date\"].dt.month\n",
    "adani_ports[\"Day\"] = adani_ports[\"Date\"].dt.day"
   ]
  },
  {
   "cell_type": "code",
   "execution_count": null,
   "id": "1f6b3818",
   "metadata": {},
   "outputs": [],
   "source": [
    "# final data\n",
    "adani_ports"
   ]
  },
  {
   "cell_type": "markdown",
   "id": "45be867d",
   "metadata": {},
   "source": [
    "### Doing the above process for the next 9 datasets "
   ]
  },
  {
   "cell_type": "code",
   "execution_count": null,
   "id": "9a9f814c",
   "metadata": {},
   "outputs": [],
   "source": [
    "asian_paint = pd.read_csv(\"~/Documents/Data Science/Journey/Projects/NIFTY 50 PROJECT/DATA/ASIANPAINT.csv\")\n",
    "axis_bank = pd.read_csv(\"~/Documents/Data Science/Journey/Projects/NIFTY 50 PROJECT/DATA/AXISBANK.csv\")\n",
    "bajaj_auto = pd.read_csv(\"~/Documents/Data Science/Journey/Projects/NIFTY 50 PROJECT/DATA/BAJAJ-AUTO.csv\")\n",
    "bajaj_finsv = pd.read_csv(\"~/Documents/Data Science/Journey/Projects/NIFTY 50 PROJECT/DATA/BAJAJFINSV.csv\")\n",
    "baj_finance = pd.read_csv(\"~/Documents/Data Science/Journey/Projects/NIFTY 50 PROJECT/DATA/BAJFINANCE.csv\")\n",
    "bharti_artl = pd.read_csv(\"~/Documents/Data Science/Journey/Projects/NIFTY 50 PROJECT/DATA/BHARTIARTL.csv\")\n",
    "bpcl = pd.read_csv(\"~/Documents/Data Science/Journey/Projects/NIFTY 50 PROJECT/DATA/BPCL.csv\")\n",
    "britannia = pd.read_csv(\"~/Documents/Data Science/Journey/Projects/NIFTY 50 PROJECT/DATA/BRITANNIA.csv\")\n",
    "cipla = pd.read_csv(\"~/Documents/Data Science/Journey/Projects/NIFTY 50 PROJECT/DATA/CIPLA.csv\")"
   ]
  },
  {
   "cell_type": "code",
   "execution_count": null,
   "id": "3bb46107",
   "metadata": {},
   "outputs": [],
   "source": [
    "print(asian_paint.isnull().sum())\n",
    "print(\"-\"*25)\n",
    "print(\"Number of Duplicates :\",asian_paint.duplicated().sum())"
   ]
  },
  {
   "cell_type": "code",
   "execution_count": null,
   "id": "244f9fb7",
   "metadata": {},
   "outputs": [],
   "source": [
    "print(axis_bank.isnull().sum())\n",
    "print(\"-\"*25)\n",
    "print(\"Number of Duplicates :\",axis_bank.duplicated().sum())"
   ]
  },
  {
   "cell_type": "code",
   "execution_count": null,
   "id": "62d811e5",
   "metadata": {},
   "outputs": [],
   "source": [
    "print(bajaj_auto.isnull().sum())\n",
    "print(\"-\"*25)\n",
    "print(\"Number of Duplicates :\",bajaj_auto.duplicated().sum())"
   ]
  },
  {
   "cell_type": "code",
   "execution_count": null,
   "id": "531171fc",
   "metadata": {},
   "outputs": [],
   "source": [
    "print(bajaj_finsv.isnull().sum())\n",
    "print(\"-\"*25)\n",
    "print(\"Number of Duplicates :\",bajaj_finsv.duplicated().sum())"
   ]
  },
  {
   "cell_type": "code",
   "execution_count": null,
   "id": "077c1c91",
   "metadata": {},
   "outputs": [],
   "source": [
    "print(baj_finance.isnull().sum())\n",
    "print(\"-\"*25)\n",
    "print(\"Number of Duplicates :\",baj_finance.duplicated().sum())"
   ]
  },
  {
   "cell_type": "code",
   "execution_count": null,
   "id": "de7f4863",
   "metadata": {},
   "outputs": [],
   "source": [
    "print(bharti_artl.isnull().sum())\n",
    "print(\"-\"*25)\n",
    "print(\"Number of Duplicates :\",bharti_artl.duplicated().sum())"
   ]
  },
  {
   "cell_type": "code",
   "execution_count": null,
   "id": "22606fca",
   "metadata": {},
   "outputs": [],
   "source": [
    "print(bpcl.isnull().sum())\n",
    "print(\"-\"*25)\n",
    "print(\"Number of Duplicates :\",bpcl.duplicated().sum())"
   ]
  },
  {
   "cell_type": "code",
   "execution_count": null,
   "id": "cc00cfc4",
   "metadata": {},
   "outputs": [],
   "source": [
    "print(britannia.isnull().sum())\n",
    "print(\"-\"*25)\n",
    "print(\"Number of Duplicates :\",britannia.duplicated().sum())"
   ]
  },
  {
   "cell_type": "code",
   "execution_count": null,
   "id": "ad8a15c8",
   "metadata": {},
   "outputs": [],
   "source": [
    "print(cipla.isnull().sum())\n",
    "print(\"-\"*25)\n",
    "print(\"Number of Duplicates :\",cipla.duplicated().sum())"
   ]
  },
  {
   "cell_type": "code",
   "execution_count": null,
   "id": "18d8fbb3",
   "metadata": {},
   "outputs": [],
   "source": [
    "asian_paint[\"Date\"] = pd.to_datetime(asian_paint[\"Date\"])\n",
    "axis_bank[\"Date\"] = pd.to_datetime(axis_bank[\"Date\"])\n",
    "bajaj_auto[\"Date\"] = pd.to_datetime(bajaj_auto[\"Date\"])\n",
    "bajaj_finsv[\"Date\"] = pd.to_datetime(bajaj_finsv[\"Date\"])\n",
    "baj_finance[\"Date\"] = pd.to_datetime(baj_finance[\"Date\"])\n",
    "bharti_artl[\"Date\"] = pd.to_datetime(bharti_artl[\"Date\"])\n",
    "bpcl[\"Date\"] = pd.to_datetime(bpcl[\"Date\"])\n",
    "britannia[\"Date\"] = pd.to_datetime(britannia[\"Date\"])\n",
    "cipla[\"Date\"] = pd.to_datetime(cipla[\"Date\"])"
   ]
  },
  {
   "cell_type": "code",
   "execution_count": null,
   "id": "a2c20447",
   "metadata": {},
   "outputs": [],
   "source": [
    "asian_paint[\"Year\"] = asian_paint[\"Date\"].dt.year\n",
    "asian_paint[\"Month\"] = asian_paint[\"Date\"].dt.month\n",
    "asian_paint[\"Day\"] = asian_paint[\"Date\"].dt.day\n",
    "\n",
    "axis_bank[\"Year\"] = axis_bank[\"Date\"].dt.year\n",
    "axis_bank[\"Month\"] = axis_bank[\"Date\"].dt.month\n",
    "axis_bank[\"Day\"] = axis_bank[\"Date\"].dt.day\n",
    "\n",
    "bajaj_auto[\"Year\"] = bajaj_auto[\"Date\"].dt.year\n",
    "bajaj_auto[\"Month\"] = bajaj_auto[\"Date\"].dt.month\n",
    "bajaj_auto[\"Day\"] = bajaj_auto[\"Date\"].dt.day\n",
    "\n",
    "bajaj_finsv[\"Year\"] = bajaj_finsv[\"Date\"].dt.year\n",
    "bajaj_finsv[\"Month\"] = bajaj_finsv[\"Date\"].dt.month\n",
    "bajaj_finsv[\"Day\"] = bajaj_finsv[\"Date\"].dt.day\n",
    "\n",
    "baj_finance[\"Year\"] = baj_finance[\"Date\"].dt.year\n",
    "baj_finance[\"Month\"] = baj_finance[\"Date\"].dt.month\n",
    "baj_finance[\"Day\"] = baj_finance[\"Date\"].dt.day\n",
    "\n",
    "bharti_artl[\"Year\"] = bharti_artl[\"Date\"].dt.year\n",
    "bharti_artl[\"Month\"] = bharti_artl[\"Date\"].dt.month\n",
    "bharti_artl[\"Day\"] = bharti_artl[\"Date\"].dt.day\n",
    "\n",
    "bpcl[\"Year\"] = bpcl[\"Date\"].dt.year\n",
    "bpcl[\"Month\"] = bpcl[\"Date\"].dt.month\n",
    "bpcl[\"Day\"] = bpcl[\"Date\"].dt.day\n",
    "\n",
    "britannia[\"Year\"] = britannia[\"Date\"].dt.year\n",
    "britannia[\"Month\"] = britannia[\"Date\"].dt.month\n",
    "britannia[\"Day\"] = britannia[\"Date\"].dt.day\n",
    "\n",
    "cipla[\"Year\"] = cipla[\"Date\"].dt.year\n",
    "cipla[\"Month\"] = cipla[\"Date\"].dt.month\n",
    "cipla[\"Day\"] = cipla[\"Date\"].dt.day"
   ]
  },
  {
   "cell_type": "code",
   "execution_count": null,
   "id": "6b184e37",
   "metadata": {},
   "outputs": [],
   "source": [
    "# dropping the columns trades, deliverable volume, %deliverble as the columns differ from each other and can't be easily compared\n",
    "adani_ports.drop(['Trades','Deliverable Volume','%Deliverble'],axis=1)\n",
    "asian_paint.drop(['Trades','Deliverable Volume','%Deliverble'],axis=1)\n",
    "axis_bank.drop(['Trades','Deliverable Volume','%Deliverble'],axis=1)\n",
    "bajaj_auto.drop(['Trades','Deliverable Volume','%Deliverble'],axis=1)\n",
    "bajaj_finsv.drop(['Trades','Deliverable Volume','%Deliverble'],axis=1)\n",
    "baj_finance.drop(['Trades','Deliverable Volume','%Deliverble'],axis=1)\n",
    "bharti_artl.drop(['Trades','Deliverable Volume','%Deliverble'],axis=1)\n",
    "bpcl.drop(['Trades','Deliverable Volume','%Deliverble'],axis=1)\n",
    "britannia.drop(['Trades','Deliverable Volume','%Deliverble'],axis=1)\n",
    "cipla.drop(['Trades','Deliverable Volume','%Deliverble'],axis=1)"
   ]
  },
  {
   "cell_type": "markdown",
   "id": "b7844f2f",
   "metadata": {},
   "source": [
    "## Plotting the Data"
   ]
  },
  {
   "cell_type": "code",
   "execution_count": null,
   "id": "e849cef4",
   "metadata": {},
   "outputs": [],
   "source": [
    "# price comparison\n",
    "plt.figure(figsize=(25,10))\n",
    "plt.plot(adani_ports['Date'],adani_ports['Open'],label=\"Adani Ports\")\n",
    "plt.plot(asian_paint['Date'],asian_paint['Open'],label=\"Asain Paint\")\n",
    "plt.plot(axis_bank['Date'],axis_bank['Open'],label=\"Axis Bank\")\n",
    "plt.plot(bajaj_auto['Date'],bajaj_auto['Open'],label=\"Bajaj Auto\")\n",
    "plt.plot(bajaj_finsv['Date'],bajaj_finsv['Open'],label=\"Bajaj Finserv \")\n",
    "plt.plot(baj_finance['Date'],baj_finance['Open'],label=\"Bajaj Finance\")\n",
    "plt.plot(bharti_artl['Date'],bharti_artl['Open'],label=\"Bharti Airtel\")\n",
    "plt.plot(bpcl['Date'],bpcl['Open'],label=\"BPCL\")\n",
    "plt.plot(britannia['Date'],britannia['Open'],label=\"Britannia\")\n",
    "plt.plot(cipla['Date'],cipla['Open'],label=\"Cipla\")\n",
    "\n",
    "plt.title(\"The Openings of The NIFTY TOP 10\",fontsize=15)\n",
    "plt.xlabel(\"Year\",fontsize=15)\n",
    "plt.ylabel(\"Opening Price\",fontsize=15)\n",
    "plt.legend(fontsize=15,loc=\"best\")\n",
    "plt.show()"
   ]
  },
  {
   "cell_type": "code",
   "execution_count": null,
   "id": "9f6c3786",
   "metadata": {},
   "outputs": [],
   "source": [
    "# volume comparison\n",
    "plt.figure(figsize=(25,10))\n",
    "plt.plot(adani_ports['Date'],adani_ports['Volume'],label=\"Adani Ports\")\n",
    "plt.plot(asian_paint['Date'],asian_paint['Volume'],label=\"Asain Paint\")\n",
    "plt.plot(axis_bank['Date'],axis_bank['Volume'],label=\"Axis Bank\")\n",
    "plt.plot(bajaj_auto['Date'],bajaj_auto['Volume'],label=\"Bajaj Auto\")\n",
    "plt.plot(bajaj_finsv['Date'],bajaj_finsv['Volume'],label=\"Bajaj Finserv \")\n",
    "plt.plot(baj_finance['Date'],baj_finance['Volume'],label=\"Bajaj Finance\")\n",
    "plt.plot(bharti_artl['Date'],bharti_artl['Volume'],label=\"Bharti Airtel\")\n",
    "plt.plot(bpcl['Date'],bpcl['Volume'],label=\"BPCL\")\n",
    "plt.plot(britannia['Date'],britannia['Volume'],label=\"Britannia\")\n",
    "plt.plot(cipla['Date'],cipla['Volume'],label=\"Cipla\")\n",
    "\n",
    "plt.title(\"The Volumes of The NIFTY TOP 10\",fontsize=15)\n",
    "plt.xlabel(\"Year\",fontsize=15)\n",
    "plt.ylabel(\"Volume\",fontsize=15)\n",
    "plt.legend(fontsize=15,loc=\"best\")\n",
    "plt.show()"
   ]
  },
  {
   "cell_type": "markdown",
   "id": "7b4333d6",
   "metadata": {},
   "source": [
    "### Calculating the return of investment"
   ]
  },
  {
   "cell_type": "code",
   "execution_count": null,
   "id": "eaa7b5b7",
   "metadata": {},
   "outputs": [],
   "source": [
    "adani_ports.tail(1)"
   ]
  },
  {
   "cell_type": "code",
   "execution_count": null,
   "id": "51ecd62a",
   "metadata": {},
   "outputs": [],
   "source": [
    "# Return on investment if invested from the beginning to the end date\n",
    "ap_invested=0 # amount invested\n",
    "ap_shares_owned=0 # number of shares owned by the organisation\n",
    "\n",
    "#calcuating total amount invested and shares owned\n",
    "for i in range(len(adani_ports)):\n",
    "    if adani_ports.loc[i,'Day']== 1:\n",
    "        ap_invested+=adani_ports.loc[i,'Open']\n",
    "        ap_shares_owned+=1\n",
    "        \n",
    "# results\n",
    "print(\"Total Invested in Rupees :\",round(ap_invested,3))\n",
    "print(\"Shares Owned of the Oraganisation :\",ap_shares_owned)\n",
    "print(\"Average Investment per Share in Rupees :\",round((ap_invested/ap_shares_owned),3))\n",
    "\n",
    "ap_last_open_price = 730.05 #last open price of organisation\n",
    "\n",
    "#investment results\n",
    "ap_result=round((ap_last_open_price*ap_shares_owned)-ap_invested,3)\n",
    "ap_roi=round((ap_result/ap_invested)*100,3) #return on investment\n",
    "\n",
    "#investment results\n",
    "print(\"\\nInvestment Result of Adani Ports\")\n",
    "if ap_result<0:\n",
    "    print(\"\\tNet Loss in Rupees : \",ap_result)\n",
    "else:\n",
    "    print(\"\\tNet Profit in Rupees : \",ap_result)\n",
    "print(\"\\nAdani Ports ROI in Percentage :\",ap_roi,\"%\")"
   ]
  },
  {
   "cell_type": "code",
   "execution_count": null,
   "id": "5c4d7f90",
   "metadata": {},
   "outputs": [],
   "source": [
    "asian_paint.tail(1)"
   ]
  },
  {
   "cell_type": "code",
   "execution_count": null,
   "id": "714bb86d",
   "metadata": {},
   "outputs": [],
   "source": [
    "# Return on investment if invested from the beginning to the end date\n",
    "asp_invested=0 # amount invested\n",
    "asp_shares_owned=0 # number of shares owned by the organisation\n",
    "\n",
    "#calcuating total amount invested and shares owned\n",
    "for i in range(len(asian_paint)):\n",
    "    if asian_paint.loc[i,'Day']== 1:\n",
    "        asp_invested+=asian_paint.loc[i,'Open']\n",
    "        asp_shares_owned+=1\n",
    "        \n",
    "# results\n",
    "print(\"Total Invested in Rupees :\",round(asp_invested,3))\n",
    "print(\"Shares Owned of the Oraganisation :\",asp_shares_owned)\n",
    "print(\"Average Investment per Share in Rupees :\",round((asp_invested/asp_shares_owned),3))\n",
    "\n",
    "asp_last_open_price = 2536.4 #last open price of organisation\n",
    "\n",
    "#investment results\n",
    "asp_result=round((asp_last_open_price*asp_shares_owned)-asp_invested,3)\n",
    "asp_roi=round((asp_result/asp_invested)*100,3) #return on investment\n",
    "\n",
    "#investment results\n",
    "print(\"\\nInvestment Result of Asian Paints\")\n",
    "if asp_result<0:\n",
    "    print(\"\\tNet Loss in Rupees : \",asp_result)\n",
    "else:\n",
    "    print(\"\\tNet Profit in Rupees : \",asp_result)\n",
    "print(\"\\nAsian Paints ROI in Percentage :\",asp_roi,\"%\")"
   ]
  },
  {
   "cell_type": "code",
   "execution_count": null,
   "id": "1866649f",
   "metadata": {},
   "outputs": [],
   "source": [
    "axis_bank.tail(1)"
   ]
  },
  {
   "cell_type": "code",
   "execution_count": null,
   "id": "075269e0",
   "metadata": {},
   "outputs": [],
   "source": [
    "# Return on investment if invested from the beginning to the end date\n",
    "axb_invested=0 # amount invested\n",
    "axb_shares_owned=0 # number of shares owned by the organisation\n",
    "\n",
    "#calcuating total amount invested and shares owned\n",
    "for i in range(len(axis_bank)):\n",
    "    if axis_bank.loc[i,'Day']== 1:\n",
    "        axb_invested+=axis_bank.loc[i,'Open']\n",
    "        axb_shares_owned+=1\n",
    "        \n",
    "# results\n",
    "print(\"Total Invested in Rupees :\",round(axb_invested,3))\n",
    "print(\"Shares Owned of the Oraganisation :\",axb_shares_owned)\n",
    "print(\"Average Investment per Share in Rupees :\",round((axb_invested/axb_shares_owned),3))\n",
    "\n",
    "axb_last_open_price = 714.9 #last open price of organisation\n",
    "\n",
    "#investment results\n",
    "axb_result=round((axb_last_open_price*axb_shares_owned)-axb_invested,3)\n",
    "axb_roi=round((axb_result/axb_invested)*100,3) #return on investment\n",
    "\n",
    "#investment results\n",
    "print(\"\\nInvestment Result of Axis Bank\")\n",
    "if axb_result<0:\n",
    "    print(\"\\tNet Loss in Rupees : \",axb_result)\n",
    "else:\n",
    "    print(\"\\tNet Profit in Rupees : \",axb_result)\n",
    "print(\"\\nAxis Bank ROI in Percentage :\",axb_roi,\"%\")"
   ]
  },
  {
   "cell_type": "code",
   "execution_count": null,
   "id": "684a3dd4",
   "metadata": {},
   "outputs": [],
   "source": [
    "bajaj_auto.tail(1)"
   ]
  },
  {
   "cell_type": "code",
   "execution_count": null,
   "id": "ef620718",
   "metadata": {},
   "outputs": [],
   "source": [
    "# Return on investment if invested from the beginning to the end date\n",
    "bjat_invested=0 # amount invested\n",
    "bjat_shares_owned=0 # number of shares owned by the organisation\n",
    "\n",
    "#calcuating total amount invested and shares owned\n",
    "for i in range(len(bajaj_auto)):\n",
    "    if bajaj_auto.loc[i,'Day']== 1:\n",
    "        bjat_invested+=bajaj_auto.loc[i,'Open']\n",
    "        bjat_shares_owned+=1\n",
    "        \n",
    "# results\n",
    "print(\"Total Invested in Rupees :\",round(bjat_invested,3))\n",
    "print(\"Shares Owned of the Oraganisation :\",bjat_shares_owned)\n",
    "print(\"Average Investment per Share in Rupees :\",round((bjat_invested/bjat_shares_owned),3))\n",
    "\n",
    "bjat_last_open_price = 3833.75 #last open price of organisation\n",
    "\n",
    "#investment results\n",
    "bjat_result=round((bjat_last_open_price*bjat_shares_owned)-bjat_invested,3)\n",
    "bjat_roi=round((bjat_result/bjat_invested)*100,3) #return on investment\n",
    "\n",
    "#investment results\n",
    "print(\"\\nInvestment Result of Bajaj Auto\")\n",
    "if bjat_result<0:\n",
    "    print(\"\\tNet Loss in Rupees : \",bjat_result)\n",
    "else:\n",
    "    print(\"\\tNet Profit in Rupees : \",bjat_result)\n",
    "print(\"\\nBajaj Auto ROI in Percentage :\",bjat_roi,\"%\")"
   ]
  },
  {
   "cell_type": "code",
   "execution_count": null,
   "id": "5587aae5",
   "metadata": {},
   "outputs": [],
   "source": [
    "bajaj_finsv.tail(1)"
   ]
  },
  {
   "cell_type": "code",
   "execution_count": null,
   "id": "cfcf6191",
   "metadata": {},
   "outputs": [],
   "source": [
    "# Return on investment if invested from the beginning to the end date\n",
    "bjfs_invested=0 # amount invested\n",
    "bjfs_shares_owned=0 # number of shares owned by the organisation\n",
    "\n",
    "#calcuating total amount invested and shares owned\n",
    "for i in range(len(bajaj_finsv)):\n",
    "    if bajaj_finsv.loc[i,'Day']== 1:\n",
    "        bjfs_invested+=bajaj_finsv.loc[i,'Open']\n",
    "        bjfs_shares_owned+=1\n",
    "        \n",
    "# results\n",
    "print(\"Total Invested in Rupees :\",round(bjfs_invested,3))\n",
    "print(\"Shares Owned of the Oraganisation :\",bjfs_shares_owned)\n",
    "print(\"Average Investment per Share in Rupees :\",round((bjfs_invested/bjfs_shares_owned),3))\n",
    "\n",
    "bjfs_last_open_price = 11041.65 #last open price of organisation\n",
    "\n",
    "#investment results\n",
    "bjfs_result=round((bjfs_last_open_price*ap_shares_owned)-bjfs_invested,3)\n",
    "bjfs_roi=round((bjfs_result/bjfs_invested)*100,3) #return on investment\n",
    "\n",
    "#investment results\n",
    "print(\"\\nInvestment Result of Bajaj Finserv\")\n",
    "if bjfs_result<0:\n",
    "    print(\"\\tNet Loss in Rupees : \",bjfs_result)\n",
    "else:\n",
    "    print(\"\\tNet Profit in Rupees : \",bjfs_result)\n",
    "print(\"\\nBajaj Finserv ROI in Percentage :\",bjfs_roi,\"%\")"
   ]
  },
  {
   "cell_type": "code",
   "execution_count": null,
   "id": "7ef5d176",
   "metadata": {},
   "outputs": [],
   "source": [
    "baj_finance.tail(1)"
   ]
  },
  {
   "cell_type": "code",
   "execution_count": null,
   "id": "d345df72",
   "metadata": {},
   "outputs": [],
   "source": [
    "# Return on investment if invested from the beginning to the end date\n",
    "bjfn_invested=0 # amount invested\n",
    "bjfn_shares_owned=0 # number of shares owned by the organisation\n",
    "\n",
    "#calcuating total amount invested and shares owned\n",
    "for i in range(len(baj_finance)):\n",
    "    if baj_finance.loc[i,'Day']== 1:\n",
    "        bjfn_invested+=baj_finance.loc[i,'Open']\n",
    "        bjfn_shares_owned+=1\n",
    "        \n",
    "# results\n",
    "print(\"Total Invested in Rupees :\",round(bjfn_invested,3))\n",
    "print(\"Shares Owned of the Oraganisation :\",bjfn_shares_owned)\n",
    "print(\"Average Investment per Share in Rupees :\",round((bjfn_invested/bjfn_shares_owned),3))\n",
    "\n",
    "bjfn_last_open_price = 5451.9 #last open price of organisation\n",
    "\n",
    "#investment results\n",
    "bjfn_result=round((bjfn_last_open_price*bjfn_shares_owned)-bjfn_invested,3)\n",
    "bjfn_roi=round((bjfn_result/bjfn_invested)*100,3) #return on investment\n",
    "\n",
    "#investment results\n",
    "print(\"\\nInvestment Result of Bajaj Finance\")\n",
    "if bjfn_result<0:\n",
    "    print(\"\\tNet Loss in Rupees : \",bjfn_result)\n",
    "else:\n",
    "    print(\"\\tNet Profit in Rupees : \",bjfn_result)\n",
    "print(\"\\nBajaj Finance ROI in Percentage :\",bjfn_roi,\"%\")"
   ]
  },
  {
   "cell_type": "code",
   "execution_count": null,
   "id": "67931912",
   "metadata": {},
   "outputs": [],
   "source": [
    "bharti_artl.tail(1)"
   ]
  },
  {
   "cell_type": "code",
   "execution_count": null,
   "id": "0759d2f0",
   "metadata": {},
   "outputs": [],
   "source": [
    "# Return on investment if invested from the beginning to the end date\n",
    "bAir_invested=0 # amount invested\n",
    "bAir_shares_owned=0 # number of shares owned by the organisation\n",
    "\n",
    "#calcuating total amount invested and shares owned\n",
    "for i in range(len(bharti_artl)):\n",
    "    if bharti_artl.loc[i,'Day']== 1:\n",
    "        bAir_invested+=bharti_artl.loc[i,'Open']\n",
    "        bAir_shares_owned+=1\n",
    "        \n",
    "# results\n",
    "print(\"Total Invested in Rupees :\",round(bAir_invested,3))\n",
    "print(\"Shares Owned of the Oraganisation :\",bAir_shares_owned)\n",
    "print(\"Average Investment per Share in Rupees :\",round((bAir_invested/bAir_shares_owned),3))\n",
    "\n",
    "bAir_last_open_price = 536.75 #last open price of organisation\n",
    "\n",
    "#investment results\n",
    "bAir_result=round((bAir_last_open_price*bAir_shares_owned)-bAir_invested,3)\n",
    "bAir_roi=round((bAir_result/bAir_invested)*100,3) #return on investment\n",
    "\n",
    "#investment results\n",
    "print(\"\\nInvestment Result of Bharti Airtel\")\n",
    "if bAir_result<0:\n",
    "    print(\"\\tNet Loss in Rupees : \",bAir_result)\n",
    "else:\n",
    "    print(\"\\tNet Profit in Rupees : \",bAir_result)\n",
    "print(\"\\nBharti Airtel ROI in Percentage :\",bAir_roi,\"%\")"
   ]
  },
  {
   "cell_type": "code",
   "execution_count": null,
   "id": "392b86dd",
   "metadata": {},
   "outputs": [],
   "source": [
    "bpcl.tail(1)"
   ]
  },
  {
   "cell_type": "code",
   "execution_count": null,
   "id": "375c85e1",
   "metadata": {},
   "outputs": [],
   "source": [
    "# Return on investment if invested from the beginning to the end date\n",
    "bpcl_invested=0 # amount invested\n",
    "bpcl_shares_owned=0 # number of shares owned by the organisation\n",
    "\n",
    "#calcuating total amount invested and shares owned\n",
    "for i in range(len(bpcl)):\n",
    "    if bpcl.loc[i,'Day']== 1:\n",
    "        bpcl_invested+=bpcl.loc[i,'Open']\n",
    "        bpcl_shares_owned+=1\n",
    "        \n",
    "# results\n",
    "print(\"Total Invested in Rupees :\",round(bpcl_invested,3))\n",
    "print(\"Shares Owned of the Oraganisation :\",bpcl_shares_owned)\n",
    "print(\"Average Investment per Share in Rupees :\",round((bpcl_invested/bpcl_shares_owned),3))\n",
    "\n",
    "bpcl_last_open_price = 421.8 #last open price of organisation\n",
    "\n",
    "#investment results\n",
    "bpcl_result=round((bpcl_last_open_price*bpcl_shares_owned)-bpcl_invested,3)\n",
    "bpcl_roi=round((bpcl_result/bpcl_invested)*100,3) #return on investment\n",
    "\n",
    "#investment results\n",
    "print(\"\\nInvestment Result of BPCL\")\n",
    "if bpcl_result<0:\n",
    "    print(\"\\tNet Loss in Rupees : \",bpcl_result)\n",
    "else:\n",
    "    print(\"\\tNet Profit in Rupees : \",bpcl_result)\n",
    "print(\"\\nBPCL ROI in Percentage :\",bpcl_roi,\"%\")"
   ]
  },
  {
   "cell_type": "code",
   "execution_count": null,
   "id": "54bd706b",
   "metadata": {},
   "outputs": [],
   "source": [
    "britannia.tail(1)"
   ]
  },
  {
   "cell_type": "code",
   "execution_count": null,
   "id": "d77dd6b2",
   "metadata": {},
   "outputs": [],
   "source": [
    "# Return on investment if invested from the beginning to the end date\n",
    "btna_invested=0 # amount invested\n",
    "btna_shares_owned=0 # number of shares owned by the organisation\n",
    "\n",
    "#calcuating total amount invested and shares owned\n",
    "for i in range(len(britannia)):\n",
    "    if britannia.loc[i,'Day']== 1:\n",
    "        btna_invested+=britannia.loc[i,'Open']\n",
    "        btna_shares_owned+=1\n",
    "        \n",
    "# results\n",
    "print(\"Total Invested in Rupees :\",round(btna_invested,3))\n",
    "print(\"Shares Owned of the Oraganisation :\",btna_shares_owned)\n",
    "print(\"Average Investment per Share in Rupees :\",round((btna_invested/btna_shares_owned),3))\n",
    "\n",
    "btna_last_open_price = 3449.0 #last open price of organisation\n",
    "\n",
    "#investment results\n",
    "btna_result=round((btna_last_open_price*btna_shares_owned)-btna_invested,3)\n",
    "btna_roi=round((btna_result/btna_invested)*100,3) #return on investment\n",
    "\n",
    "#investment results\n",
    "print(\"\\nInvestment Result of Britannia\")\n",
    "if btna_result<0:\n",
    "    print(\"\\tNet Loss in Rupees : \",btna_result)\n",
    "else:\n",
    "    print(\"\\tNet Profit in Rupees : \",btna_result)\n",
    "print(\"\\nBritannia ROI in Percentage :\",btna_roi,\"%\")"
   ]
  },
  {
   "cell_type": "code",
   "execution_count": null,
   "id": "10415e39",
   "metadata": {},
   "outputs": [],
   "source": [
    "cipla.tail(1)"
   ]
  },
  {
   "cell_type": "code",
   "execution_count": null,
   "id": "c9eeca6b",
   "metadata": {},
   "outputs": [],
   "source": [
    "# Return on investment if invested from the beginning to the end date\n",
    "cp_invested=0 # amount invested\n",
    "cp_shares_owned=0 # number of shares owned by the organisation\n",
    "\n",
    "#calcuating total amount invested and shares owned\n",
    "for i in range(len(cipla)):\n",
    "    if cipla.loc[i,'Day']== 1:\n",
    "        cp_invested+=cipla.loc[i,'Open']\n",
    "        cp_shares_owned+=1\n",
    "        \n",
    "# results\n",
    "print(\"Total Invested in Rupees :\",round(cp_invested,3))\n",
    "print(\"Shares Owned of the Oraganisation :\",cp_shares_owned)\n",
    "print(\"Average Investment per Share in Rupees :\",round((cp_invested/cp_shares_owned),3))\n",
    "\n",
    "cp_last_open_price = 910.35 #last open price of organisation\n",
    "\n",
    "#investment results\n",
    "cp_result=round((cp_last_open_price*cp_shares_owned)-cp_invested,3)\n",
    "cp_roi=round((cp_result/cp_invested)*100,3) #return on investment\n",
    "\n",
    "#investment results\n",
    "print(\"\\nInvestment Result of Adani Ports\")\n",
    "if cp_result<0:\n",
    "    print(\"\\tNet Loss in Rupees : \",cp_result)\n",
    "else:\n",
    "    print(\"\\tNet Profit in Rupees : \",cp_result)\n",
    "print(\"\\nAdani Ports ROI in Percentage :\",cp_roi,\"%\")"
   ]
  },
  {
   "cell_type": "code",
   "execution_count": null,
   "id": "b6b36270",
   "metadata": {},
   "outputs": [],
   "source": [
    "stocks = [\"adani_ports\",\"asian_paint\",\"axis_bank\",\"bajaj_auto\",\"bajaj_finsv\",\"baj_finance\",\"bharti_artl\",\"bpcl\",\"britannia\",\"cipla\"]\n",
    "roi = [ap_roi,asp_roi,axb_roi,bjat_roi,bjfs_roi,bjfn_roi,bAir_roi,bpcl_roi,btna_roi,cp_roi]"
   ]
  },
  {
   "cell_type": "code",
   "execution_count": null,
   "id": "507f1f7b",
   "metadata": {},
   "outputs": [],
   "source": [
    "plt.figure(figsize=(15,8))\n",
    "sns.barplot(x=stocks,y=roi)\n",
    "plt.title(\"Return on Investment\")\n",
    "plt.xlabel(\"Stocks\")\n",
    "plt.ylabel(\"Percentage\")"
   ]
  },
  {
   "cell_type": "code",
   "execution_count": null,
   "id": "a4bc25d2",
   "metadata": {},
   "outputs": [],
   "source": [
    "result=[ap_result,asp_result,axb_result,bjat_result,bjfs_result,bjfn_result,bAir_result,bpcl_result,btna_result,cp_result]\n",
    "plt.figure(figsize=(15,8))\n",
    "sns.barplot(x=stocks,y=result)\n",
    "plt.title(\"Profit/Loss\")\n",
    "plt.xlabel(\"Stocks\")\n",
    "plt.ylabel(\"Amount\")"
   ]
  },
  {
   "cell_type": "code",
   "execution_count": null,
   "id": "39c207fc",
   "metadata": {},
   "outputs": [],
   "source": [
    "shares_owned = [ap_shares_owned,asp_shares_owned,axb_shares_owned,bjat_shares_owned,bjfs_shares_owned,bjfn_shares_owned,bAir_shares_owned,bpcl_shares_owned,btna_shares_owned,cp_shares_owned]\n",
    "plt.figure(figsize=(15,15))\n",
    "plt.pie(shares_owned,labels=stocks,autopct=\"%.3f%%\")\n",
    "plt.title(\"Portfolio\",fontsize=15)\n",
    "plt.legend(loc=\"lower left\")"
   ]
  },
  {
   "cell_type": "code",
   "execution_count": null,
   "id": "6dcdeb19",
   "metadata": {},
   "outputs": [],
   "source": []
  }
 ],
 "metadata": {
  "kernelspec": {
   "display_name": "Python 3 (ipykernel)",
   "language": "python",
   "name": "python3"
  },
  "language_info": {
   "codemirror_mode": {
    "name": "ipython",
    "version": 3
   },
   "file_extension": ".py",
   "mimetype": "text/x-python",
   "name": "python",
   "nbconvert_exporter": "python",
   "pygments_lexer": "ipython3",
   "version": "3.9.17"
  }
 },
 "nbformat": 4,
 "nbformat_minor": 5
}
